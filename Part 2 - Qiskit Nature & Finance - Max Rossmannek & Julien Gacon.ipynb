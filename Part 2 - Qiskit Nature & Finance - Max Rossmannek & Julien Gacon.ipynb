{
 "cells": [
  {
   "cell_type": "markdown",
   "id": "above-ethics",
   "metadata": {},
   "source": [
    "# Qiskit Nature\n",
    "\n",
    "This module of qiskit is made for dealing with problems related to natural science, specially in quantum chemistry.\n",
    "\n",
    "Today we are lokking for the Electronic structure problem"
   ]
  },
  {
   "cell_type": "code",
   "execution_count": 2,
   "id": "polar-horror",
   "metadata": {},
   "outputs": [],
   "source": [
    "from qiskit_nature.transformers.second_quantization.electronic import ActiveSpaceTransformer"
   ]
  },
  {
   "cell_type": "markdown",
   "id": "radio-chester",
   "metadata": {},
   "source": [
    "# Qiskit Finance\n",
    "Why financa + QC?\n",
    "\n",
    "* Optimization:\n",
    "    * Quadratic programs\n",
    "        * near-term VAriational alg\n",
    "        * fault tolerant\n",
    "* Estimation\n",
    "    * Montecarlo\n",
    "\n",
    "### Protafolio optimization\n",
    "\n",
    "#### Quadratic program formulation"
   ]
  },
  {
   "cell_type": "code",
   "execution_count": null,
   "id": "worse-selection",
   "metadata": {},
   "outputs": [],
   "source": [
    "import numpyas np\n",
    "\n",
    "mu = np.arra"
   ]
  }
 ],
 "metadata": {
  "kernelspec": {
   "display_name": "Python 3",
   "language": "python",
   "name": "python3"
  },
  "language_info": {
   "codemirror_mode": {
    "name": "ipython",
    "version": 3
   },
   "file_extension": ".py",
   "mimetype": "text/x-python",
   "name": "python",
   "nbconvert_exporter": "python",
   "pygments_lexer": "ipython3",
   "version": "3.8.5"
  }
 },
 "nbformat": 4,
 "nbformat_minor": 5
}
