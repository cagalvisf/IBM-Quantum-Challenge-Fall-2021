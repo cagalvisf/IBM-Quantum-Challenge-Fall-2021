{
 "cells": [
  {
   "cell_type": "markdown",
   "id": "above-ethics",
   "metadata": {},
   "source": [
    "# Qiskit Nature\n",
    "\n",
    "This module of qiskit is made for dealing with problems related to natural science, specially in quantum chemistry.\n",
    "\n",
    "In general, the application is split into Problems and solvers, straightforward it works as\n",
    "`result = solver.solve(problem)`\n",
    "\n",
    "Today we are looking for the Electronic structure problem. this problem takes a ElectronicStructuredDriver, we need it to represent the problem into classical code. From that we have de GroupedElectronicProperties, such as Hamiltonian, dipole moment operators, number of particles, angular momentum and more!.\n",
    "\n",
    "### Electronic Structure\n",
    "\n",
    "The Hamiltonian that describes the interaction between electrons is\n",
    "$$H = \\sum_{p} \\left(-\\frac{1}{2}\\nabla^2_p - \\sum_{k}\\frac{Z_k}{r_{pk}}\\right) + \\sum{q<p} \\frac{1}{r_{pq}}$$\n",
    "\n",
    "The first term is the kinetic energy of the electron, the second, is the potential depenting on the number of positive ions in the atomic structure, the last term represents the coulomb repulsion between electrons.\n",
    "\n",
    "To find the eigenvalue of the Hamiltonian $H$ we have to solve\n",
    "$$H|\\psi_n\\rangle = E_n|\\psi_n\\rangle.$$\n",
    "\n",
    "Whose ground state energy is given by\n",
    "$$E_0 = \\frac{\\langle H \\rangle_{n = 0}}{\\langle \\psi_0|\\psi_0 \\rangle}$$\n",
    "\n",
    "where $|\\psi_0 \\rangle$ is the ground state of the system.\n",
    "\n",
    "### Second Quantization\n",
    "\n",
    "The Hamiltonian is described in terms of the annihilation and creation operators $a_p$ and $a_p^\\dagger$ respectively.\n",
    "\n",
    "$$H = \\sum_{pq}h_{pq}a_p^\\dagger a_p + \\frac{1}{2}\\sum_{pqrs}g_{pqrs}a_p^\\dagger a_q^\\dagger a_r a_s$$\n",
    "\n",
    "Here $h_pq$ represents the kinetic energy and the potential in which the electron is located, produces from the atomic nuclei. $g_{pqrs}$ represents the interchange terms, which describe the interaction between the electrons in the atomic structure. This two terms are non also as the 1-body and 2-body integrals.\n",
    "\n",
    "This representation of the problem allows the wave function to be represented as an ocupation number vector, this means that we only have to find the number of electrons that are occupying determined state. That depends on the number od electrons that are in the structure.\n",
    "\n",
    "### The `ElectronicStructureProblem`"
   ]
  },
  {
   "cell_type": "code",
   "execution_count": 30,
   "id": "committed-publisher",
   "metadata": {},
   "outputs": [],
   "source": [
    "import warnings\n",
    "from h5py.h5py_warnings import H5pyDeprecationWarning\n",
    "warnings.filterwarnings(action=\"ignore\", category=H5pyDeprecationWarning)"
   ]
  },
  {
   "cell_type": "code",
   "execution_count": 2,
   "id": "polar-horror",
   "metadata": {},
   "outputs": [],
   "source": [
    "from qiskit_nature.drivers import Molecule\n",
    "\n",
    "molecule = Molecule(\n",
    "    ### Coordinates are given in Amstrongs\n",
    "    ## This is a H_2O Molecule \n",
    "    geometry =[\n",
    "        [\"O\",[0.0, 0.0, 0.115]],\n",
    "        [\"H\",[0.0, 0.754, -0.459]],\n",
    "        [\"H\",[0.0, -0.754, -0.459]],\n",
    "    ],\n",
    "    multiplicity=1, # = 2*spin + 1\n",
    "    charge=0,\n",
    ")"
   ]
  },
  {
   "cell_type": "code",
   "execution_count": 32,
   "id": "hairy-stopping",
   "metadata": {},
   "outputs": [],
   "source": [
    "from qiskit_nature.drivers.second_quantization import ElectronicStructureMoleculeDriver, ElectronicStructureDriverType\n",
    "\n",
    "driver = ElectronicStructureMoleculeDriver(\n",
    "    molecule = molecule,\n",
    "    basis=\"sto3g\",\n",
    "    driver_type=ElectronicStructureDriverType.PYSCF,\n",
    ")"
   ]
  },
  {
   "cell_type": "markdown",
   "id": "premium-crossing",
   "metadata": {},
   "source": [
    "Now we wrap the driver into the Electronic Structure Problem as follows"
   ]
  },
  {
   "cell_type": "code",
   "execution_count": 4,
   "id": "transsexual-compression",
   "metadata": {},
   "outputs": [],
   "source": [
    "from qiskit_nature.problems.second_quantization.electronic import ElectronicStructureProblem\n",
    "\n",
    "problem = ElectronicStructureProblem(driver)"
   ]
  },
  {
   "cell_type": "markdown",
   "id": "eleven-victory",
   "metadata": {},
   "source": [
    "Now we can inspect the Hamiltonian of the system in its second-quantized form:"
   ]
  },
  {
   "cell_type": "code",
   "execution_count": 5,
   "id": "prostate-configuration",
   "metadata": {},
   "outputs": [],
   "source": [
    "## this will call driver.run() internally\n",
    "second_q_ops = problem.second_q_ops()"
   ]
  },
  {
   "cell_type": "code",
   "execution_count": 6,
   "id": "drawn-chase",
   "metadata": {},
   "outputs": [
    {
     "name": "stdout",
     "output_type": "stream",
     "text": [
      "Fermionic Operator\n",
      "register length=14, number terms=1085\n",
      "  (0.009448189516231434+0j) * ( +_0 +_1 -_2 -_6 )\n",
      "+ (-0.001603762271306217+0j) * ( +_0 +_1 -_3 -_5 )\n",
      "+ (-0.030824961500492465+0j) * ( +_0 -_1 +_2 -_6 )\n",
      "+ (0.021376771984261+0j) * ( +_0 -_1 -_2 +_6 ...\n"
     ]
    }
   ],
   "source": [
    "hamiltonian = second_q_ops[0]\n",
    "print(hamiltonian)"
   ]
  },
  {
   "cell_type": "markdown",
   "id": "sixth-benchmark",
   "metadata": {},
   "source": [
    "This means that, the number of qubits needed to represent the ElectronicStructureProblem of a $H_2O$ molecule is 14. The notation before follows:\n",
    "$$(\\text{Coefficient}) * (\\text{creation and annihilation operators})$$\n",
    "\n",
    "For example the first term indicates that the coefficient $0.00945$ belongs to the sequence of annihilation and creation operators $a^\\dagger_0 a^\\dagger_1 a_2 a_6$.\n",
    "\n",
    "We can also get more information from the driver:"
   ]
  },
  {
   "cell_type": "code",
   "execution_count": 7,
   "id": "adult-society",
   "metadata": {},
   "outputs": [
    {
     "name": "stdout",
     "output_type": "stream",
     "text": [
      "ElectronicStructureDriverResult:\n",
      "\tDriverMetadata:\n",
      "\t\tProgram: PYSCF\n",
      "\t\tVersion: 1.7.6\n",
      "\t\tConfig:\n",
      "\t\t\tatom=O 0.0 0.0 0.115;H 0.0 0.754 -0.459;H 0.0 -0.754 -0.459\n",
      "\t\t\tunit=Angstrom\n",
      "\t\t\tcharge=0\n",
      "\t\t\tspin=0\n",
      "\t\t\tbasis=sto3g\n",
      "\t\t\tmethod=rhf\n",
      "\t\t\tconv_tol=1e-09\n",
      "\t\t\tmax_cycle=50\n",
      "\t\t\tinit_guess=minao\n",
      "\t\t\tmax_memory=4000\n",
      "\t\t\t\n",
      "\tElectronicBasisTransform:\n",
      "\t\tInitial basis: atomic\n",
      "\t\tFinal basis: molecular\n",
      "\t\tAlpha coefficients:\n",
      "\t\t[0, 0] = 0.9941038468519985\n",
      "\t\t[0, 1] = -0.23249684427278883\n",
      "\t\t[0, 2] = -5.2163097720028175e-17\n",
      "\t\t[0, 3] = -0.10305188327114599\n",
      "\t\t[0, 4] = 7.025196654967917e-17\n",
      "\t\t[0, 5] = -0.13415815779896761\n",
      "\t\t[0, 6] = -5.658849884837202e-16\n",
      "\t\t[1, 0] = 0.02678207865614997\n",
      "\t\t[1, 1] = 0.8301922072362895\n",
      "\t\t[1, 2] = 1.2131017290670206e-16\n",
      "\t\t[1, 3] = 0.5369920122052861\n",
      "\t\t[1, 4] = -3.8288312478285075e-16\n",
      "\t\t[1, 5] = 0.9038656248714041\n",
      "\t\t[1, 6] = 3.7946628470547116e-15\n",
      "\t\t[2, 0] = 5.171594375443211e-19\n",
      "\t\t[2, 1] = 2.2406236522116244e-17\n",
      "\t\t[2, 2] = -1.86039324223006e-15\n",
      "\t\t[2, 3] = 6.174543708191098e-16\n",
      "\t\t[2, 4] = 0.9999999999999996\n",
      "\t\t[2, 5] = 6.988747614211044e-18\n",
      "\t\t[2, 6] = 9.46421398080259e-17\n",
      "\t\t[3, 0] = -1.2231060840215113e-18\n",
      "\t\t[3, 1] = -8.85493796453765e-17\n",
      "\t\t[3, 2] = 0.6055832621220049\n",
      "\t\t[3, 3] = -6.835078484593228e-16\n",
      "\t\t[3, 4] = 6.581451004076509e-16\n",
      "\t\t[3, 5] = -4.039445496128274e-15\n",
      "\t\t[3, 6] = 0.9988904152354017\n",
      "\t\t[4, 0] = -0.004410519170080885\n",
      "\t\t[4, 1] = -0.13195105708967683\n",
      "\t\t[4, 2] = 1.1102230246251565e-15\n",
      "\t\t[4, 3] = 0.7817690957733555\n",
      "\t\t[4, 4] = -4.3749047363769115e-16\n",
      "\t\t[4, 5] = -0.7377686987676108\n",
      "\t\t[4, 6] = -2.886579864025407e-15\n",
      "\t\t[5, 0] = -0.006087632858196365\n",
      "\t\t[5, 1] = 0.15951045942567163\n",
      "\t\t[5, 2] = 0.44378696671717516\n",
      "\t\t[5, 3] = -0.2729085888490263\n",
      "\t\t[5, 4] = 8.107486671844291e-16\n",
      "\t\t[5, 5] = -0.8052406318686601\n",
      "\t\t[5, 6] = -0.8470142665344284\n",
      "\t\t[6, 0] = -0.0060876328581963655\n",
      "\t\t[6, 1] = 0.15951045942567169\n",
      "\t\t[6, 2] = -0.44378696671717477\n",
      "\t\t[6, 3] = -0.27290858884902586\n",
      "\t\t[6, 4] = -3.738401408699868e-16\n",
      "\t\t[6, 5] = -0.805240631868668\n",
      "\t\t[6, 6] = 0.8470142665344216\n",
      "\t\tBeta coefficients:\n",
      "\t\t[0, 0] = 0.9941038468519985\n",
      "\t\t[0, 1] = -0.23249684427278883\n",
      "\t\t[0, 2] = -5.2163097720028175e-17\n",
      "\t\t[0, 3] = -0.10305188327114599\n",
      "\t\t[0, 4] = 7.025196654967917e-17\n",
      "\t\t[0, 5] = -0.13415815779896761\n",
      "\t\t[0, 6] = -5.658849884837202e-16\n",
      "\t\t[1, 0] = 0.02678207865614997\n",
      "\t\t[1, 1] = 0.8301922072362895\n",
      "\t\t[1, 2] = 1.2131017290670206e-16\n",
      "\t\t[1, 3] = 0.5369920122052861\n",
      "\t\t[1, 4] = -3.8288312478285075e-16\n",
      "\t\t[1, 5] = 0.9038656248714041\n",
      "\t\t[1, 6] = 3.7946628470547116e-15\n",
      "\t\t[2, 0] = 5.171594375443211e-19\n",
      "\t\t[2, 1] = 2.2406236522116244e-17\n",
      "\t\t[2, 2] = -1.86039324223006e-15\n",
      "\t\t[2, 3] = 6.174543708191098e-16\n",
      "\t\t[2, 4] = 0.9999999999999996\n",
      "\t\t[2, 5] = 6.988747614211044e-18\n",
      "\t\t[2, 6] = 9.46421398080259e-17\n",
      "\t\t[3, 0] = -1.2231060840215113e-18\n",
      "\t\t[3, 1] = -8.85493796453765e-17\n",
      "\t\t[3, 2] = 0.6055832621220049\n",
      "\t\t[3, 3] = -6.835078484593228e-16\n",
      "\t\t[3, 4] = 6.581451004076509e-16\n",
      "\t\t[3, 5] = -4.039445496128274e-15\n",
      "\t\t[3, 6] = 0.9988904152354017\n",
      "\t\t[4, 0] = -0.004410519170080885\n",
      "\t\t[4, 1] = -0.13195105708967683\n",
      "\t\t[4, 2] = 1.1102230246251565e-15\n",
      "\t\t[4, 3] = 0.7817690957733555\n",
      "\t\t[4, 4] = -4.3749047363769115e-16\n",
      "\t\t[4, 5] = -0.7377686987676108\n",
      "\t\t[4, 6] = -2.886579864025407e-15\n",
      "\t\t[5, 0] = -0.006087632858196365\n",
      "\t\t[5, 1] = 0.15951045942567163\n",
      "\t\t[5, 2] = 0.44378696671717516\n",
      "\t\t[5, 3] = -0.2729085888490263\n",
      "\t\t[5, 4] = 8.107486671844291e-16\n",
      "\t\t[5, 5] = -0.8052406318686601\n",
      "\t\t[5, 6] = -0.8470142665344284\n",
      "\t\t[6, 0] = -0.0060876328581963655\n",
      "\t\t[6, 1] = 0.15951045942567169\n",
      "\t\t[6, 2] = -0.44378696671717477\n",
      "\t\t[6, 3] = -0.27290858884902586\n",
      "\t\t[6, 4] = -3.738401408699868e-16\n",
      "\t\t[6, 5] = -0.805240631868668\n",
      "\t\t[6, 6] = 0.8470142665344216\n",
      "\tParticleNumber:\n",
      "\t\t14 SOs\n",
      "\t\t5 alpha electrons\n",
      "\t\t\torbital occupation: [1. 1. 1. 1. 1. 0. 0.]\n",
      "\t\t5 beta electrons\n",
      "\t\t\torbital occupation: [1. 1. 1. 1. 1. 0. 0.]\n",
      "\tElectronicEnergy\n",
      "\t\t(AO) 1-Body Terms:\n",
      "\t\t\tAlpha\n",
      "\t\t\t<(7, 7) matrix with 31 non-zero entries>\n",
      "\t\t\t[0, 0] = -32.73210507886267\n",
      "\t\t\t[0, 1] = -7.615453203661359\n",
      "\t\t\t[0, 4] = 0.0191880200870366\n",
      "\t\t\t[0, 5] = -1.7902790229833077\n",
      "\t\t\t[0, 6] = -1.7902790229833077\n",
      "\t\t\t... skipping 26 entries\n",
      "\t\t\tBeta\n",
      "\t\t\t<(7, 7) matrix with 31 non-zero entries>\n",
      "\t\t\t[0, 0] = -32.73210507886267\n",
      "\t\t\t[0, 1] = -7.615453203661359\n",
      "\t\t\t[0, 4] = 0.0191880200870366\n",
      "\t\t\t[0, 5] = -1.7902790229833077\n",
      "\t\t\t[0, 6] = -1.7902790229833077\n",
      "\t\t\t... skipping 26 entries\n",
      "\t\t(AO) 2-Body Terms:\n",
      "\t\t\tAlpha-Alpha\n",
      "\t\t\t<(7, 7, 7, 7) matrix with 1245 non-zero entries>\n",
      "\t\t\t[0, 0, 0, 0] = 4.785065404705503\n",
      "\t\t\t[0, 0, 0, 1] = 0.7413803519734079\n",
      "\t\t\t[0, 0, 0, 5] = 0.17579330413348518\n",
      "\t\t\t[0, 0, 0, 6] = 0.17579330413348518\n",
      "\t\t\t[0, 0, 1, 0] = 0.741380351973408\n",
      "\t\t\t... skipping 1240 entries\n",
      "\t\t\tBeta-Alpha\n",
      "\t\t\t<(7, 7, 7, 7) matrix with 1245 non-zero entries>\n",
      "\t\t\t[0, 0, 0, 0] = 4.785065404705503\n",
      "\t\t\t[0, 0, 0, 1] = 0.7413803519734079\n",
      "\t\t\t[0, 0, 0, 5] = 0.17579330413348518\n",
      "\t\t\t[0, 0, 0, 6] = 0.17579330413348518\n",
      "\t\t\t[0, 0, 1, 0] = 0.741380351973408\n",
      "\t\t\t... skipping 1240 entries\n",
      "\t\t\tBeta-Beta\n",
      "\t\t\t<(7, 7, 7, 7) matrix with 1245 non-zero entries>\n",
      "\t\t\t[0, 0, 0, 0] = 4.785065404705503\n",
      "\t\t\t[0, 0, 0, 1] = 0.7413803519734079\n",
      "\t\t\t[0, 0, 0, 5] = 0.17579330413348518\n",
      "\t\t\t[0, 0, 0, 6] = 0.17579330413348518\n",
      "\t\t\t[0, 0, 1, 0] = 0.741380351973408\n",
      "\t\t\t... skipping 1240 entries\n",
      "\t\t\tAlpha-Beta\n",
      "\t\t\t<(7, 7, 7, 7) matrix with 1245 non-zero entries>\n",
      "\t\t\t[0, 0, 0, 0] = 4.785065404705503\n",
      "\t\t\t[0, 0, 0, 1] = 0.7413803519734079\n",
      "\t\t\t[0, 0, 0, 5] = 0.17579330413348518\n",
      "\t\t\t[0, 0, 0, 6] = 0.17579330413348518\n",
      "\t\t\t[0, 0, 1, 0] = 0.741380351973408\n",
      "\t\t\t... skipping 1240 entries\n",
      "\t\t(MO) 1-Body Terms:\n",
      "\t\t\tAlpha\n",
      "\t\t\t<(7, 7) matrix with 21 non-zero entries>\n",
      "\t\t\t[0, 0] = -32.714343842710335\n",
      "\t\t\t[0, 1] = 0.5578998850170985\n",
      "\t\t\t[0, 3] = 0.2351461963237332\n",
      "\t\t\t[0, 5] = 0.30924009521248214\n",
      "\t\t\t[1, 0] = 0.557899885017099\n",
      "\t\t\t... skipping 16 entries\n",
      "\t\t\tBeta\n",
      "\t\t\t<(7, 7) matrix with 21 non-zero entries>\n",
      "\t\t\t[0, 0] = -32.714343842710335\n",
      "\t\t\t[0, 1] = 0.5578998850170985\n",
      "\t\t\t[0, 3] = 0.2351461963237332\n",
      "\t\t\t[0, 5] = 0.30924009521248214\n",
      "\t\t\t[1, 0] = 0.557899885017099\n",
      "\t\t\t... skipping 16 entries\n",
      "\t\t(MO) 2-Body Terms:\n",
      "\t\t\tAlpha-Alpha\n",
      "\t\t\t<(7, 7, 7, 7) matrix with 777 non-zero entries>\n",
      "\t\t\t[0, 0, 0, 0] = 4.744311218662816\n",
      "\t\t\t[0, 0, 0, 1] = -0.41608381315526133\n",
      "\t\t\t[0, 0, 0, 3] = -0.18341426776011766\n",
      "\t\t\t[0, 0, 0, 5] = -0.2414594446657286\n",
      "\t\t\t[0, 0, 1, 0] = -0.41608381315526116\n",
      "\t\t\t... skipping 772 entries\n",
      "\t\t\tBeta-Alpha\n",
      "\t\t\t<(7, 7, 7, 7) matrix with 777 non-zero entries>\n",
      "\t\t\t[0, 0, 0, 0] = 4.744311218662816\n",
      "\t\t\t[0, 0, 0, 1] = -0.41608381315526133\n",
      "\t\t\t[0, 0, 0, 3] = -0.18341426776011766\n",
      "\t\t\t[0, 0, 0, 5] = -0.2414594446657286\n",
      "\t\t\t[0, 0, 1, 0] = -0.41608381315526116\n",
      "\t\t\t... skipping 772 entries\n",
      "\t\t\tBeta-Beta\n",
      "\t\t\t<(7, 7, 7, 7) matrix with 777 non-zero entries>\n",
      "\t\t\t[0, 0, 0, 0] = 4.744311218662816\n",
      "\t\t\t[0, 0, 0, 1] = -0.41608381315526133\n",
      "\t\t\t[0, 0, 0, 3] = -0.18341426776011766\n",
      "\t\t\t[0, 0, 0, 5] = -0.2414594446657286\n",
      "\t\t\t[0, 0, 1, 0] = -0.41608381315526116\n",
      "\t\t\t... skipping 772 entries\n",
      "\t\t\tAlpha-Beta\n",
      "\t\t\t<(7, 7, 7, 7) matrix with 777 non-zero entries>\n",
      "\t\t\t[0, 0, 0, 0] = 4.744311218662816\n",
      "\t\t\t[0, 0, 0, 1] = -0.41608381315526133\n",
      "\t\t\t[0, 0, 0, 3] = -0.18341426776011766\n",
      "\t\t\t[0, 0, 0, 5] = -0.2414594446657286\n",
      "\t\t\t[0, 0, 1, 0] = -0.41608381315526116\n",
      "\t\t\t... skipping 772 entries\n",
      "\tElectronicDipoleMoment:\n",
      "\t\tDipoleMomentX\n",
      "\t\t\t(AO) 1-Body Terms:\n",
      "\t\t\t\tAlpha\n",
      "\t\t\t\t<(7, 7) matrix with 8 non-zero entries>\n",
      "\t\t\t\t[0, 2] = 0.05079192958791235\n",
      "\t\t\t\t[1, 2] = 0.6411728443249253\n",
      "\t\t\t\t[2, 0] = 0.05079192958791235\n",
      "\t\t\t\t[2, 1] = 0.6411728443249253\n",
      "\t\t\t\t[2, 5] = 0.30915367280278916\n",
      "\t\t\t\t... skipping 3 entries\n",
      "\t\t\t\tBeta\n",
      "\t\t\t\t<(7, 7) matrix with 8 non-zero entries>\n",
      "\t\t\t\t[0, 2] = 0.05079192958791235\n",
      "\t\t\t\t[1, 2] = 0.6411728443249253\n",
      "\t\t\t\t[2, 0] = 0.05079192958791235\n",
      "\t\t\t\t[2, 1] = 0.6411728443249253\n",
      "\t\t\t\t[2, 5] = 0.30915367280278916\n",
      "\t\t\t\t... skipping 3 entries\n",
      "\t\t\t(MO) 1-Body Terms:\n",
      "\t\t\t\tAlpha\n",
      "\t\t\t\t<(7, 7) matrix with 8 non-zero entries>\n",
      "\t\t\t\t[0, 4] = 0.06390036602770434\n",
      "\t\t\t\t[1, 4] = 0.6191142242701774\n",
      "\t\t\t\t[3, 4] = 0.17032910668221302\n",
      "\t\t\t\t[4, 0] = 0.06390036602770434\n",
      "\t\t\t\t[4, 1] = 0.6191142242701773\n",
      "\t\t\t\t... skipping 3 entries\n",
      "\t\t\t\tBeta\n",
      "\t\t\t\t<(7, 7) matrix with 8 non-zero entries>\n",
      "\t\t\t\t[0, 4] = 0.06390036602770434\n",
      "\t\t\t\t[1, 4] = 0.6191142242701774\n",
      "\t\t\t\t[3, 4] = 0.17032910668221302\n",
      "\t\t\t\t[4, 0] = 0.06390036602770434\n",
      "\t\t\t\t[4, 1] = 0.6191142242701773\n",
      "\t\t\t\t... skipping 3 entries\n",
      "\t\tDipoleMomentY\n",
      "\t\t\t(AO) 1-Body Terms:\n",
      "\t\t\t\tAlpha\n",
      "\t\t\t\t<(7, 7) matrix with 22 non-zero entries>\n",
      "\t\t\t\t[0, 3] = 0.05079192958791235\n",
      "\t\t\t\t[0, 5] = 0.0032052941540769942\n",
      "\t\t\t\t[0, 6] = -0.0032052941540769942\n",
      "\t\t\t\t[1, 3] = 0.6411728443249253\n",
      "\t\t\t\t[1, 5] = 0.2929228341013192\n",
      "\t\t\t\t... skipping 17 entries\n",
      "\t\t\t\tBeta\n",
      "\t\t\t\t<(7, 7) matrix with 22 non-zero entries>\n",
      "\t\t\t\t[0, 3] = 0.05079192958791235\n",
      "\t\t\t\t[0, 5] = 0.0032052941540769942\n",
      "\t\t\t\t[0, 6] = -0.0032052941540769942\n",
      "\t\t\t\t[1, 3] = 0.6411728443249253\n",
      "\t\t\t\t[1, 5] = 0.2929228341013192\n",
      "\t\t\t\t... skipping 17 entries\n",
      "\t\t\t(MO) 1-Body Terms:\n",
      "\t\t\t\tAlpha\n",
      "\t\t\t\t<(7, 7) matrix with 16 non-zero entries>\n",
      "\t\t\t\t[0, 2] = 0.03992308852576563\n",
      "\t\t\t\t[0, 6] = 0.0563156461674435\n",
      "\t\t\t\t[1, 2] = 0.8475158979655111\n",
      "\t\t\t\t[1, 6] = -0.14799915306864392\n",
      "\t\t\t\t[2, 0] = 0.039923088525765635\n",
      "\t\t\t\t... skipping 11 entries\n",
      "\t\t\t\tBeta\n",
      "\t\t\t\t<(7, 7) matrix with 16 non-zero entries>\n",
      "\t\t\t\t[0, 2] = 0.03992308852576563\n",
      "\t\t\t\t[0, 6] = 0.0563156461674435\n",
      "\t\t\t\t[1, 2] = 0.8475158979655111\n",
      "\t\t\t\t[1, 6] = -0.14799915306864392\n",
      "\t\t\t\t[2, 0] = 0.039923088525765635\n",
      "\t\t\t\t... skipping 11 entries\n",
      "\t\tDipoleMomentZ\n",
      "\t\t\t(AO) 1-Body Terms:\n",
      "\t\t\t\tAlpha\n",
      "\t\t\t\t<(7, 7) matrix with 31 non-zero entries>\n",
      "\t\t\t\t[0, 0] = 0.21731850432498206\n",
      "\t\t\t\t[0, 1] = 0.051440145450372926\n",
      "\t\t\t\t[0, 4] = 0.05079192958791235\n",
      "\t\t\t\t[0, 5] = 0.009559648381014491\n",
      "\t\t\t\t[0, 6] = 0.009559648381014491\n",
      "\t\t\t\t... skipping 26 entries\n",
      "\t\t\t\tBeta\n",
      "\t\t\t\t<(7, 7) matrix with 31 non-zero entries>\n",
      "\t\t\t\t[0, 0] = 0.21731850432498206\n",
      "\t\t\t\t[0, 1] = 0.051440145450372926\n",
      "\t\t\t\t[0, 4] = 0.05079192958791235\n",
      "\t\t\t\t[0, 5] = 0.009559648381014491\n",
      "\t\t\t\t[0, 6] = 0.009559648381014491\n",
      "\t\t\t\t... skipping 26 entries\n",
      "\t\t\t(MO) 1-Body Terms:\n",
      "\t\t\t\tAlpha\n",
      "\t\t\t\t<(7, 7) matrix with 21 non-zero entries>\n",
      "\t\t\t\t[0, 0] = 0.21687080048082605\n",
      "\t\t\t\t[0, 1] = -0.008930229930278743\n",
      "\t\t\t\t[0, 3] = 0.04991087852510386\n",
      "\t\t\t\t[0, 5] = -0.042994602023445044\n",
      "\t\t\t\t[1, 0] = -0.008930229930278756\n",
      "\t\t\t\t... skipping 16 entries\n",
      "\t\t\t\tBeta\n",
      "\t\t\t\t<(7, 7) matrix with 21 non-zero entries>\n",
      "\t\t\t\t[0, 0] = 0.21687080048082605\n",
      "\t\t\t\t[0, 1] = -0.008930229930278743\n",
      "\t\t\t\t[0, 3] = 0.04991087852510386\n",
      "\t\t\t\t[0, 5] = -0.042994602023445044\n",
      "\t\t\t\t[1, 0] = -0.008930229930278756\n",
      "\t\t\t\t... skipping 16 entries\n",
      "\tAngularMomentum:\n",
      "\t\t14 SOs\n",
      "\tMagnetization:\n",
      "\t\t14 SOs\n",
      "Molecule:\n",
      "\tMultiplicity: 1\n",
      "\tCharge: 0\n",
      "\tGeometry:\n",
      "\t\tO\t[0.0, 0.0, 0.21731850432498212]\n",
      "\t\tH\t[0.0, 1.4248534979220566, -0.8673842911753634]\n",
      "\t\tH\t[0.0, -1.4248534979220566, -0.8673842911753634]\n",
      "\tMasses:\n",
      "\t\tO\t16\n",
      "\t\tH\t1\n",
      "\t\tH\t1\n"
     ]
    }
   ],
   "source": [
    "print(problem.grouped_property)"
   ]
  },
  {
   "cell_type": "markdown",
   "id": "interstate-attack",
   "metadata": {},
   "source": [
    "The size of the problem can be reduced by selecting a subset of orbitals to be treated with the quantum algorithm. This concept is known as active space. Here we fix some of the electronic orbitals by doing a classical pre processing. Then, we left the orbitals of interest free to be treated in a quantum computer.\n",
    "Qiskit provides a generic active transformer\n"
   ]
  },
  {
   "cell_type": "code",
   "execution_count": 8,
   "id": "affecting-seafood",
   "metadata": {},
   "outputs": [],
   "source": [
    "from qiskit_nature.transformers.second_quantization.electronic import ActiveSpaceTransformer\n",
    "\n",
    "transformer = ActiveSpaceTransformer(\n",
    "    num_electrons=2,\n",
    "    num_molecular_orbitals=3,\n",
    ")"
   ]
  },
  {
   "cell_type": "code",
   "execution_count": 33,
   "id": "impossible-graph",
   "metadata": {},
   "outputs": [],
   "source": [
    "problem_reduced = ElectronicStructureProblem(driver, [transformer])\n",
    "second_q_ops_reduced = problem_reduced.second_q_ops()\n",
    "hamiltonian_reduced = second_q_ops_reduced[0]"
   ]
  },
  {
   "cell_type": "code",
   "execution_count": 34,
   "id": "imperial-vampire",
   "metadata": {},
   "outputs": [
    {
     "name": "stdout",
     "output_type": "stream",
     "text": [
      "Fermionic Operator\n",
      "register length=6, number terms=33\n",
      "  (0.03893103043275939+0j) * ( +_0 -_1 +_3 -_4 )\n",
      "+ (-0.038931030432759306+0j) * ( +_0 -_1 -_3 +_4 )\n",
      "+ (0.024354547060211403+0j) * ( +_0 -_2 +_3 -_5 )\n",
      "+ (-0.02435454706021139+0j) * ( +_0 -_2 -_3 +_ ...\n"
     ]
    }
   ],
   "source": [
    "print(hamiltonian_reduced)"
   ]
  },
  {
   "cell_type": "markdown",
   "id": "textile-surveillance",
   "metadata": {},
   "source": [
    "Now we only need 6 qubits to represent the reduced problem."
   ]
  },
  {
   "cell_type": "code",
   "execution_count": 11,
   "id": "available-xerox",
   "metadata": {},
   "outputs": [
    {
     "name": "stdout",
     "output_type": "stream",
     "text": [
      "ElectronicStructureDriverResult:\n",
      "\tDriverMetadata:\n",
      "\t\tProgram: PYSCF\n",
      "\t\tVersion: 1.7.6\n",
      "\t\tConfig:\n",
      "\t\t\tatom=O 0.0 0.0 0.115;H 0.0 0.754 -0.459;H 0.0 -0.754 -0.459\n",
      "\t\t\tunit=Angstrom\n",
      "\t\t\tcharge=0\n",
      "\t\t\tspin=0\n",
      "\t\t\tbasis=sto3g\n",
      "\t\t\tmethod=rhf\n",
      "\t\t\tconv_tol=1e-09\n",
      "\t\t\tmax_cycle=50\n",
      "\t\t\tinit_guess=minao\n",
      "\t\t\tmax_memory=4000\n",
      "\t\t\t\n",
      "\tElectronicBasisTransform:\n",
      "\t\tInitial basis: atomic\n",
      "\t\tFinal basis: molecular\n",
      "\t\tAlpha coefficients:\n",
      "\t\t[0, 0] = 0.9941038468519988\n",
      "\t\t[0, 1] = -0.2324968442727891\n",
      "\t\t[0, 2] = 1.5836828296554566e-16\n",
      "\t\t[0, 3] = -0.10305188327114699\n",
      "\t\t[0, 4] = 2.3591204406102167e-17\n",
      "\t\t[0, 5] = -0.13415815779896692\n",
      "\t\t[0, 6] = 6.776748101802586e-16\n",
      "\t\t[1, 0] = 0.026782078656150125\n",
      "\t\t[1, 1] = 0.8301922072362904\n",
      "\t\t[1, 2] = -8.49118318557621e-16\n",
      "\t\t[1, 3] = 0.5369920122052925\n",
      "\t\t[1, 4] = -1.11148726623452e-16\n",
      "\t\t[1, 5] = 0.9038656248714007\n",
      "\t\t[1, 6] = -4.744817761096075e-15\n",
      "\t\t[2, 0] = -6.361832910259701e-20\n",
      "\t\t[2, 1] = -2.7563014914379277e-18\n",
      "\t\t[2, 2] = -9.81488965037599e-16\n",
      "\t\t[2, 3] = 4.987599591274574e-16\n",
      "\t\t[2, 4] = 1.0\n",
      "\t\t[2, 5] = -1.118820227217979e-16\n",
      "\t\t[2, 6] = -4.715631369932814e-17\n",
      "\t\t[3, 0] = 2.1854771187872915e-21\n",
      "\t\t[3, 1] = -6.000476348122574e-18\n",
      "\t\t[3, 2] = 0.6055832621220079\n",
      "\t\t[3, 3] = -1.8617846483774912e-16\n",
      "\t\t[3, 4] = 4.924472489036567e-16\n",
      "\t\t[3, 5] = 5.840078738142805e-15\n",
      "\t\t[3, 6] = 0.9988904152354013\n",
      "\t\t[4, 0] = -0.004410519170080903\n",
      "\t\t[4, 1] = -0.13195105708967708\n",
      "\t\t[4, 2] = 2.914335439641036e-16\n",
      "\t\t[4, 3] = 0.7817690957733513\n",
      "\t\t[4, 4] = -5.203556503811107e-16\n",
      "\t\t[4, 5] = -0.7377686987676164\n",
      "\t\t[4, 6] = 3.885780586188048e-15\n",
      "\t\t[5, 0] = -0.006087632858196403\n",
      "\t\t[5, 1] = 0.1595104594256715\n",
      "\t\t[5, 2] = 0.443786966717174\n",
      "\t\t[5, 3] = -0.27290858884903146\n",
      "\t\t[5, 4] = 3.3376353308988975e-16\n",
      "\t\t[5, 5] = -0.8052406318686671\n",
      "\t\t[5, 6] = -0.847014266534422\n",
      "\t\t[6, 0] = -0.0060876328581964045\n",
      "\t\t[6, 1] = 0.15951045942567096\n",
      "\t\t[6, 2] = -0.44378696671717305\n",
      "\t\t[6, 3] = -0.2729085888490315\n",
      "\t\t[6, 4] = -2.660350425840344e-16\n",
      "\t\t[6, 5] = -0.8052406318686586\n",
      "\t\t[6, 6] = 0.8470142665344309\n",
      "\t\tBeta coefficients:\n",
      "\t\t[0, 0] = 0.9941038468519988\n",
      "\t\t[0, 1] = -0.2324968442727891\n",
      "\t\t[0, 2] = 1.5836828296554566e-16\n",
      "\t\t[0, 3] = -0.10305188327114699\n",
      "\t\t[0, 4] = 2.3591204406102167e-17\n",
      "\t\t[0, 5] = -0.13415815779896692\n",
      "\t\t[0, 6] = 6.776748101802586e-16\n",
      "\t\t[1, 0] = 0.026782078656150125\n",
      "\t\t[1, 1] = 0.8301922072362904\n",
      "\t\t[1, 2] = -8.49118318557621e-16\n",
      "\t\t[1, 3] = 0.5369920122052925\n",
      "\t\t[1, 4] = -1.11148726623452e-16\n",
      "\t\t[1, 5] = 0.9038656248714007\n",
      "\t\t[1, 6] = -4.744817761096075e-15\n",
      "\t\t[2, 0] = -6.361832910259701e-20\n",
      "\t\t[2, 1] = -2.7563014914379277e-18\n",
      "\t\t[2, 2] = -9.81488965037599e-16\n",
      "\t\t[2, 3] = 4.987599591274574e-16\n",
      "\t\t[2, 4] = 1.0\n",
      "\t\t[2, 5] = -1.118820227217979e-16\n",
      "\t\t[2, 6] = -4.715631369932814e-17\n",
      "\t\t[3, 0] = 2.1854771187872915e-21\n",
      "\t\t[3, 1] = -6.000476348122574e-18\n",
      "\t\t[3, 2] = 0.6055832621220079\n",
      "\t\t[3, 3] = -1.8617846483774912e-16\n",
      "\t\t[3, 4] = 4.924472489036567e-16\n",
      "\t\t[3, 5] = 5.840078738142805e-15\n",
      "\t\t[3, 6] = 0.9988904152354013\n",
      "\t\t[4, 0] = -0.004410519170080903\n",
      "\t\t[4, 1] = -0.13195105708967708\n",
      "\t\t[4, 2] = 2.914335439641036e-16\n",
      "\t\t[4, 3] = 0.7817690957733513\n",
      "\t\t[4, 4] = -5.203556503811107e-16\n",
      "\t\t[4, 5] = -0.7377686987676164\n",
      "\t\t[4, 6] = 3.885780586188048e-15\n",
      "\t\t[5, 0] = -0.006087632858196403\n",
      "\t\t[5, 1] = 0.1595104594256715\n",
      "\t\t[5, 2] = 0.443786966717174\n",
      "\t\t[5, 3] = -0.27290858884903146\n",
      "\t\t[5, 4] = 3.3376353308988975e-16\n",
      "\t\t[5, 5] = -0.8052406318686671\n",
      "\t\t[5, 6] = -0.847014266534422\n",
      "\t\t[6, 0] = -0.0060876328581964045\n",
      "\t\t[6, 1] = 0.15951045942567096\n",
      "\t\t[6, 2] = -0.44378696671717305\n",
      "\t\t[6, 3] = -0.2729085888490315\n",
      "\t\t[6, 4] = -2.660350425840344e-16\n",
      "\t\t[6, 5] = -0.8052406318686586\n",
      "\t\t[6, 6] = 0.8470142665344309\n",
      "\tParticleNumber:\n",
      "\t\t6 SOs\n",
      "\t\t1 alpha electrons\n",
      "\t\t\torbital occupation: [1. 0. 0.]\n",
      "\t\t1 beta electrons\n",
      "\t\t\torbital occupation: [1. 0. 0.]\n",
      "\tElectronicEnergy\n",
      "\t\t(AO) 1-Body Terms:\n",
      "\t\t\tAlpha\n",
      "\t\t\t<(7, 7) matrix with 31 non-zero entries>\n",
      "\t\t\t[0, 0] = -22.437613988346346\n",
      "\t\t\t[0, 1] = -5.638504821761309\n",
      "\t\t\t[0, 4] = 0.029637276085026792\n",
      "\t\t\t[0, 5] = -1.3318022005114352\n",
      "\t\t\t[0, 6] = -1.3318022005114354\n",
      "\t\t\t... skipping 26 entries\n",
      "\t\t\tBeta\n",
      "\t\t\t<(7, 7) matrix with 31 non-zero entries>\n",
      "\t\t\t[0, 0] = -22.437613988346346\n",
      "\t\t\t[0, 1] = -5.638504821761309\n",
      "\t\t\t[0, 4] = 0.029637276085026792\n",
      "\t\t\t[0, 5] = -1.3318022005114352\n",
      "\t\t\t[0, 6] = -1.3318022005114354\n",
      "\t\t\t... skipping 26 entries\n",
      "\t\t(AO) 2-Body Terms:\n",
      "\t\t\tAlpha-Alpha\n",
      "\t\t\t<(7, 7, 7, 7) matrix with 1245 non-zero entries>\n",
      "\t\t\t[0, 0, 0, 0] = 4.785065404705503\n",
      "\t\t\t[0, 0, 0, 1] = 0.7413803519734079\n",
      "\t\t\t[0, 0, 0, 5] = 0.17579330413348518\n",
      "\t\t\t[0, 0, 0, 6] = 0.17579330413348518\n",
      "\t\t\t[0, 0, 1, 0] = 0.741380351973408\n",
      "\t\t\t... skipping 1240 entries\n",
      "\t\t\tBeta-Alpha\n",
      "\t\t\t<(7, 7, 7, 7) matrix with 1245 non-zero entries>\n",
      "\t\t\t[0, 0, 0, 0] = 4.785065404705503\n",
      "\t\t\t[0, 0, 0, 1] = 0.7413803519734079\n",
      "\t\t\t[0, 0, 0, 5] = 0.17579330413348518\n",
      "\t\t\t[0, 0, 0, 6] = 0.17579330413348518\n",
      "\t\t\t[0, 0, 1, 0] = 0.741380351973408\n",
      "\t\t\t... skipping 1240 entries\n",
      "\t\t\tBeta-Beta\n",
      "\t\t\t<(7, 7, 7, 7) matrix with 1245 non-zero entries>\n",
      "\t\t\t[0, 0, 0, 0] = 4.785065404705503\n",
      "\t\t\t[0, 0, 0, 1] = 0.7413803519734079\n",
      "\t\t\t[0, 0, 0, 5] = 0.17579330413348518\n",
      "\t\t\t[0, 0, 0, 6] = 0.17579330413348518\n",
      "\t\t\t[0, 0, 1, 0] = 0.741380351973408\n",
      "\t\t\t... skipping 1240 entries\n",
      "\t\t\tAlpha-Beta\n",
      "\t\t\t<(7, 7, 7, 7) matrix with 1245 non-zero entries>\n",
      "\t\t\t[0, 0, 0, 0] = 4.785065404705503\n",
      "\t\t\t[0, 0, 0, 1] = 0.7413803519734079\n",
      "\t\t\t[0, 0, 0, 5] = 0.17579330413348518\n",
      "\t\t\t[0, 0, 0, 6] = 0.17579330413348518\n",
      "\t\t\t[0, 0, 1, 0] = 0.741380351973408\n",
      "\t\t\t... skipping 1240 entries\n",
      "\t\t(MO) 1-Body Terms:\n",
      "\t\t\tAlpha\n",
      "\t\t\t<(3, 3) matrix with 3 non-zero entries>\n",
      "\t\t\t[0, 0] = -1.2713684922252915\n",
      "\t\t\t[1, 1] = -0.5252015734604234\n",
      "\t\t\t[2, 2] = -0.4723121209160613\n",
      "\t\t\tBeta\n",
      "\t\t\t<(3, 3) matrix with 3 non-zero entries>\n",
      "\t\t\t[0, 0] = -1.2713684922252915\n",
      "\t\t\t[1, 1] = -0.5252015734604234\n",
      "\t\t\t[2, 2] = -0.4723121209160613\n",
      "\t\t(MO) 2-Body Terms:\n",
      "\t\t\tAlpha-Alpha\n",
      "\t\t\t<(3, 3, 3, 3) matrix with 21 non-zero entries>\n",
      "\t\t\t[0, 0, 0, 0] = 0.8801590933750436\n",
      "\t\t\t[0, 0, 1, 1] = 0.5888764776489951\n",
      "\t\t\t[0, 0, 2, 2] = 0.6266270814174864\n",
      "\t\t\t[0, 1, 0, 1] = 0.038931030432759514\n",
      "\t\t\t[0, 1, 1, 0] = 0.03893103043275955\n",
      "\t\t\t... skipping 16 entries\n",
      "\t\t\tBeta-Alpha\n",
      "\t\t\t<(3, 3, 3, 3) matrix with 21 non-zero entries>\n",
      "\t\t\t[0, 0, 0, 0] = 0.8801590933750436\n",
      "\t\t\t[0, 0, 1, 1] = 0.5888764776489951\n",
      "\t\t\t[0, 0, 2, 2] = 0.6266270814174864\n",
      "\t\t\t[0, 1, 0, 1] = 0.038931030432759514\n",
      "\t\t\t[0, 1, 1, 0] = 0.03893103043275955\n",
      "\t\t\t... skipping 16 entries\n",
      "\t\t\tBeta-Beta\n",
      "\t\t\t<(3, 3, 3, 3) matrix with 21 non-zero entries>\n",
      "\t\t\t[0, 0, 0, 0] = 0.8801590933750436\n",
      "\t\t\t[0, 0, 1, 1] = 0.5888764776489951\n",
      "\t\t\t[0, 0, 2, 2] = 0.6266270814174864\n",
      "\t\t\t[0, 1, 0, 1] = 0.038931030432759514\n",
      "\t\t\t[0, 1, 1, 0] = 0.03893103043275955\n",
      "\t\t\t... skipping 16 entries\n",
      "\t\t\tAlpha-Beta\n",
      "\t\t\t<(3, 3, 3, 3) matrix with 21 non-zero entries>\n",
      "\t\t\t[0, 0, 0, 0] = 0.8801590933750436\n",
      "\t\t\t[0, 0, 1, 1] = 0.5888764776489951\n",
      "\t\t\t[0, 0, 2, 2] = 0.6266270814174864\n",
      "\t\t\t[0, 1, 0, 1] = 0.038931030432759514\n",
      "\t\t\t[0, 1, 1, 0] = 0.03893103043275955\n",
      "\t\t\t... skipping 16 entries\n",
      "\t\tEnergy Shifts:\n",
      "\t\t\tActiveSpaceTransformer = (-82.58413593368786+0j)\n",
      "\tElectronicDipoleMoment:\n",
      "\t\tDipoleMomentX\n",
      "\t\t\t(AO) 1-Body Terms:\n",
      "\t\t\t\tAlpha\n",
      "\t\t\t\t<(7, 7) matrix with 8 non-zero entries>\n",
      "\t\t\t\t[0, 2] = 0.05079192958791235\n",
      "\t\t\t\t[1, 2] = 0.6411728443249253\n",
      "\t\t\t\t[2, 0] = 0.05079192958791235\n",
      "\t\t\t\t[2, 1] = 0.6411728443249253\n",
      "\t\t\t\t[2, 5] = 0.30915367280278916\n",
      "\t\t\t\t... skipping 3 entries\n",
      "\t\t\t\tBeta\n",
      "\t\t\t\t<(7, 7) matrix with 8 non-zero entries>\n",
      "\t\t\t\t[0, 2] = 0.05079192958791235\n",
      "\t\t\t\t[1, 2] = 0.6411728443249253\n",
      "\t\t\t\t[2, 0] = 0.05079192958791235\n",
      "\t\t\t\t[2, 1] = 0.6411728443249253\n",
      "\t\t\t\t[2, 5] = 0.30915367280278916\n",
      "\t\t\t\t... skipping 3 entries\n",
      "\t\t\t(MO) 1-Body Terms:\n",
      "\t\t\t\tAlpha\n",
      "\t\t\t\t<(3, 3) matrix with 2 non-zero entries>\n",
      "\t\t\t\t[0, 1] = 0.07483374421728113\n",
      "\t\t\t\t[1, 0] = 0.07483374421728113\n",
      "\t\t\t\tBeta\n",
      "\t\t\t\t<(3, 3) matrix with 2 non-zero entries>\n",
      "\t\t\t\t[0, 1] = 0.07483374421728113\n",
      "\t\t\t\t[1, 0] = 0.07483374421728113\n",
      "\t\t\tEnergy Shifts:\n",
      "\t\t\t\tActiveSpaceTransformer = 0j\n",
      "\t\tDipoleMomentY\n",
      "\t\t\t(AO) 1-Body Terms:\n",
      "\t\t\t\tAlpha\n",
      "\t\t\t\t<(7, 7) matrix with 22 non-zero entries>\n",
      "\t\t\t\t[0, 3] = 0.05079192958791235\n",
      "\t\t\t\t[0, 5] = 0.0032052941540769942\n",
      "\t\t\t\t[0, 6] = -0.0032052941540769942\n",
      "\t\t\t\t[1, 3] = 0.6411728443249253\n",
      "\t\t\t\t[1, 5] = 0.2929228341013192\n",
      "\t\t\t\t... skipping 17 entries\n",
      "\t\t\t\tBeta\n",
      "\t\t\t\t<(7, 7) matrix with 22 non-zero entries>\n",
      "\t\t\t\t[0, 3] = 0.05079192958791235\n",
      "\t\t\t\t[0, 5] = 0.0032052941540769942\n",
      "\t\t\t\t[0, 6] = -0.0032052941540769942\n",
      "\t\t\t\t[1, 3] = 0.6411728443249253\n",
      "\t\t\t\t[1, 5] = 0.2929228341013192\n",
      "\t\t\t\t... skipping 17 entries\n",
      "\t\t\t(MO) 1-Body Terms:\n",
      "\t\t\t\tAlpha\n",
      "\t\t\t\t<(3, 3) matrix with 2 non-zero entries>\n",
      "\t\t\t\t[1, 2] = 1.06571854025354\n",
      "\t\t\t\t[2, 1] = 1.0657185402535403\n",
      "\t\t\t\tBeta\n",
      "\t\t\t\t<(3, 3) matrix with 2 non-zero entries>\n",
      "\t\t\t\t[1, 2] = 1.06571854025354\n",
      "\t\t\t\t[2, 1] = 1.0657185402535403\n",
      "\t\t\tEnergy Shifts:\n",
      "\t\t\t\tActiveSpaceTransformer = (3.6637359812630166e-15+0j)\n",
      "\t\tDipoleMomentZ\n",
      "\t\t\t(AO) 1-Body Terms:\n",
      "\t\t\t\tAlpha\n",
      "\t\t\t\t<(7, 7) matrix with 31 non-zero entries>\n",
      "\t\t\t\t[0, 0] = 0.21731850432498206\n",
      "\t\t\t\t[0, 1] = 0.051440145450372926\n",
      "\t\t\t\t[0, 4] = 0.05079192958791235\n",
      "\t\t\t\t[0, 5] = 0.009559648381014491\n",
      "\t\t\t\t[0, 6] = 0.009559648381014491\n",
      "\t\t\t\t... skipping 26 entries\n",
      "\t\t\t\tBeta\n",
      "\t\t\t\t<(7, 7) matrix with 31 non-zero entries>\n",
      "\t\t\t\t[0, 0] = 0.21731850432498206\n",
      "\t\t\t\t[0, 1] = 0.051440145450372926\n",
      "\t\t\t\t[0, 4] = 0.05079192958791235\n",
      "\t\t\t\t[0, 5] = 0.009559648381014491\n",
      "\t\t\t\t[0, 6] = 0.009559648381014491\n",
      "\t\t\t\t... skipping 26 entries\n",
      "\t\t\t(MO) 1-Body Terms:\n",
      "\t\t\t\tAlpha\n",
      "\t\t\t\t<(3, 3) matrix with 3 non-zero entries>\n",
      "\t\t\t\t[0, 0] = 0.21731850432498215\n",
      "\t\t\t\t[1, 1] = -0.7371203251700871\n",
      "\t\t\t\t[2, 2] = -0.43588708038908663\n",
      "\t\t\t\tBeta\n",
      "\t\t\t\t<(3, 3) matrix with 3 non-zero entries>\n",
      "\t\t\t\t[0, 0] = 0.21731850432498215\n",
      "\t\t\t\t[1, 1] = -0.7371203251700871\n",
      "\t\t\t\t[2, 2] = -0.43588708038908663\n",
      "\t\t\tEnergy Shifts:\n",
      "\t\t\t\tActiveSpaceTransformer = (0.25059156478615374+0j)\n",
      "\tAngularMomentum:\n",
      "\t\t6 SOs\n",
      "\tMagnetization:\n",
      "\t\t6 SOs\n",
      "Molecule:\n",
      "\tMultiplicity: 1\n",
      "\tCharge: 0\n",
      "\tGeometry:\n",
      "\t\tO\t[0.0, 0.0, 0.21731850432498212]\n",
      "\t\tH\t[0.0, 1.4248534979220566, -0.8673842911753634]\n",
      "\t\tH\t[0.0, -1.4248534979220566, -0.8673842911753634]\n",
      "\tMasses:\n",
      "\t\tO\t16\n",
      "\t\tH\t1\n",
      "\t\tH\t1\n"
     ]
    }
   ],
   "source": [
    "print(problem_reduced.grouped_property_transformed)"
   ]
  },
  {
   "cell_type": "markdown",
   "id": "proprietary-bottle",
   "metadata": {},
   "source": [
    "## Mapping the problem to the Qubit Space\n",
    "\n",
    "### Molecular orbitals\n",
    "Each molecular orbital is a linear combination of all atomic orbitals. The choise of basis set (sto3g in or example) dorectly affects the number of orbitals.\n",
    "Is important to have into account that for each molecular orbital we have two spin orbitals, since there are two possible values of the electron spin. Then, we have to map that into our qubits. This can be done using the Jordan-Wigner mapping; which stores the occupation information of one spin orbital in one qubit.\n",
    "\n",
    "In terms of code we have"
   ]
  },
  {
   "cell_type": "code",
   "execution_count": 35,
   "id": "seeing-thickness",
   "metadata": {},
   "outputs": [],
   "source": [
    "from qiskit_nature.converters.second_quantization import QubitConverter\n",
    "from qiskit_nature.mappers.second_quantization import JordanWignerMapper\n",
    "\n",
    "jw_mapper = JordanWignerMapper()\n",
    "jw_converter = QubitConverter(jw_mapper)"
   ]
  },
  {
   "cell_type": "code",
   "execution_count": 36,
   "id": "artistic-casting",
   "metadata": {},
   "outputs": [
    {
     "name": "stdout",
     "output_type": "stream",
     "text": [
      "-0.05135743132370673 * IIIIII\n",
      "- 0.4809405154775976 * ZIIIII\n",
      "- 0.4258572341084753 * IZIIII\n",
      "+ 0.11275928505376374 * ZZIIII\n",
      "- 0.1762859123911103 * IIZIII\n",
      "+ 0.1505681335893181 * ZIZIII\n",
      "+ 0.13748636180405918 * IZZIII\n",
      "- 0.4809405154775977 * IIIZII\n",
      "+ 0.15537730842446157 * ZIIZII\n",
      "+ 0.1417350785137113 * IZIZII\n",
      "+ 0.15665677035437092 * IIZZII\n",
      "- 0.4258572341084753 * IIIIZI\n",
      "+ 0.1417350785137113 * ZIIIZI\n",
      "+ 0.149258176054907 * IZIIZI\n",
      "+ 0.14721911941224902 * IIZIZI\n",
      "+ 0.11275928505376374 * IIIZZI\n",
      "- 0.17628591239111024 * IIIIIZ\n",
      "+ 0.15665677035437092 * ZIIIIZ\n",
      "+ 0.14721911941224902 * IZIIIZ\n",
      "+ 0.22003977334376046 * IIZIIZ\n",
      "+ 0.1505681335893181 * IIIZIZ\n",
      "+ 0.13748636180405918 * IIIIZZ\n",
      "+ 0.02897579345994758 * XXIXXI\n",
      "+ 0.02897579345994758 * YYIXXI\n",
      "+ 0.02897579345994758 * XXIYYI\n",
      "+ 0.02897579345994758 * YYIYYI\n",
      "+ 0.006088636765052847 * XZXXZX\n",
      "+ 0.006088636765052847 * YZYXZX\n",
      "+ 0.006088636765052847 * XZXYZY\n",
      "+ 0.006088636765052847 * YZYYZY\n",
      "+ 0.009732757608189832 * IXXIXX\n",
      "+ 0.009732757608189832 * IYYIXX\n",
      "+ 0.009732757608189832 * IXXIYY\n",
      "+ 0.009732757608189832 * IYYIYY\n"
     ]
    }
   ],
   "source": [
    "qubit_op_jw = jw_converter.convert(hamiltonian_reduced)\n",
    "print(qubit_op_jw)"
   ]
  },
  {
   "cell_type": "markdown",
   "id": "opponent-replica",
   "metadata": {},
   "source": [
    "Due to the symmetry of this problen it can be reduced even more. In this case we are going to use the parity mapping which will reduce the representation to only 2 qubits."
   ]
  },
  {
   "cell_type": "code",
   "execution_count": 23,
   "id": "charged-copper",
   "metadata": {},
   "outputs": [],
   "source": [
    "from qiskit_nature.mappers.second_quantization import ParityMapper\n",
    "\n",
    "parity_mapper = ParityMapper()\n",
    "parity_converter = QubitConverter(parity_mapper, two_qubit_reduction=True)\n"
   ]
  },
  {
   "cell_type": "code",
   "execution_count": 24,
   "id": "olive-launch",
   "metadata": {},
   "outputs": [
    {
     "name": "stdout",
     "output_type": "stream",
     "text": [
      "-0.05135743132370128 * IIII\n",
      "+ (-0.6184268772816549+1.3877787807814457e-17j) * ZIII\n",
      "+ 0.28904519744487644 * IZII\n",
      "- 0.5764253676977962 * ZZII\n",
      "+ (0.6184268772816549+8.326672684688674e-17j) * IIZI\n",
      "- 0.1553773084244618 * ZIZI\n",
      "+ 0.15665677035437153 * IZZI\n",
      "- 0.14173507851371125 * ZZZI\n",
      "+ (-0.2890451974448767+2.0816681711721685e-17j) * IIIZ\n",
      "+ 0.15665677035437153 * ZIIZ\n",
      "+ (-0.22003977334376085+1.3877787807814457e-17j) * IZIZ\n",
      "+ 0.1472191194122487 * ZZIZ\n",
      "- 0.5764253676977962 * IIZZ\n",
      "+ 0.14173507851371125 * ZIZZ\n",
      "- 0.1472191194122487 * IZZZ\n",
      "+ 0.14925817605490682 * ZZZZ\n",
      "+ 0.028975793459947715 * XIXI\n",
      "- 0.02897579345994771 * XZXI\n",
      "+ (0.02897579345994771-1.734723475976807e-18j) * XIXZ\n",
      "- 0.02897579345994771 * XZXZ\n",
      "+ 0.009732757608189873 * IXIX\n",
      "+ (0.009732757608189873-8.673617379884035e-19j) * ZXIX\n",
      "- 0.009732757608189873 * IXZX\n",
      "+ (-0.009732757608189873+8.673617379884035e-19j) * ZXZX\n",
      "+ 0.006088636765052916 * XXXX\n",
      "+ (-0.006088636765052916-4.336808689942018e-19j) * YYXX\n",
      "- 0.0060886367650529166 * XXYY\n",
      "+ 0.006088636765052916 * YYYY\n"
     ]
    }
   ],
   "source": [
    "qubit_op_parity = parity_converter.convert(hamiltonian_reduced, num_particles=problem_reduced.num_particles)\n",
    "print(qubit_op_parity)"
   ]
  },
  {
   "cell_type": "markdown",
   "id": "romantic-entrepreneur",
   "metadata": {},
   "source": [
    "### Finding the ground-state solution\n",
    "\n",
    "Now that we have expressed the molecular problem into a qubit one, we can proceed into actually solving the problem. Now we are going to implement a quantum algorithm for finding the ground-state of the system; which is the state of minimum energy. \n",
    "\n",
    "#### Variationa Quantum Eigensolver (VQE)\n",
    "The VQE is a quantum algorithm that can be used to find the ground state of this problem. Now, after doing the mapping of the Hamiltonian into a qubit Hamiltonian $\\mathcal{H}_{qubit} = \\sum_{i} c_i P_i$, we prepare the initial state of the system in terms of a set of parameters in the form $|\\psi(\\theta)\\rangle$. Then, we measure the expectation value $\\langle\\psi(\\theta)|P_i|\\psi(\\theta)\\rangle$\n",
    "\n",
    "Then, after calculating the energy, it is checked if that value can be reduced by adjusting the parameters. This process is repeated until the optimal solution $\\{\\theta\\}_{opt}$ is found. In terms of code we have"
   ]
  },
  {
   "cell_type": "code",
   "execution_count": 46,
   "id": "addressed-zoning",
   "metadata": {},
   "outputs": [],
   "source": [
    "from qiskit.algorithms.optimizers import SLSQP\n",
    "from qiskit.providers.aer import StatevectorSimulator, QasmSimulator\n",
    "from qiskit_nature.algorithms.ground_state_solvers.minimum_eigensolver_factories import VQEUCCFactory\n",
    "\n",
    "vqe_factory = VQEUCCFactory(\n",
    "    quantum_instance=StatevectorSimulator(),\n",
    "    #quantum_instance=QasmSimulator(),\n",
    "    optimizer=SLSQP(),\n",
    ")"
   ]
  },
  {
   "cell_type": "markdown",
   "id": "bronze-median",
   "metadata": {},
   "source": [
    "This factory can be used to construct a GroundStateEigensolver, this is the layer for constructing the qubits state. The parameter of the layer change in order to find a solution."
   ]
  },
  {
   "cell_type": "code",
   "execution_count": 47,
   "id": "alone-roads",
   "metadata": {},
   "outputs": [],
   "source": [
    "from qiskit_nature.algorithms.ground_state_solvers import GroundStateEigensolver\n",
    "\n",
    "solver = GroundStateEigensolver(parity_converter, vqe_factory)"
   ]
  },
  {
   "cell_type": "code",
   "execution_count": 48,
   "id": "concrete-transsexual",
   "metadata": {},
   "outputs": [
    {
     "name": "stdout",
     "output_type": "stream",
     "text": [
      "sto3g\n"
     ]
    }
   ],
   "source": [
    "print(problem_reduced.driver.basis)"
   ]
  },
  {
   "cell_type": "code",
   "execution_count": 49,
   "id": "ceramic-phase",
   "metadata": {},
   "outputs": [],
   "source": [
    "result = solver.solve(problem_reduced)"
   ]
  },
  {
   "cell_type": "code",
   "execution_count": 50,
   "id": "assumed-dover",
   "metadata": {},
   "outputs": [
    {
     "name": "stdout",
     "output_type": "stream",
     "text": [
      "=== GROUND STATE ENERGY ===\n",
      " \n",
      "* Electronic ground state energy (Hartree): -84.248285546104\n",
      "  - computed part:      -1.664149612417\n",
      "  - ActiveSpaceTransformer extracted energy part: -82.584135933688\n",
      "~ Nuclear repulsion energy (Hartree): 9.285714221678\n",
      "> Total ground state energy (Hartree): -74.962571324427\n",
      " \n",
      "=== MEASURED OBSERVABLES ===\n",
      " \n",
      "  0:  # Particles: 2.000 S: 0.000 S^2: 0.000 M: 0.000\n",
      " \n",
      "=== DIPOLE MOMENTS ===\n",
      " \n",
      "~ Nuclear dipole moment (a.u.): [0.0  0.0  0.00377945]\n",
      " \n",
      "  0: \n",
      "  * Electronic dipole moment (a.u.): [0.00000001  -0.00000001  0.68311968]\n",
      "    - computed part:      [0.00000001  -0.00000001  0.43252811]\n",
      "    - ActiveSpaceTransformer extracted energy part: [0.0  0.0  0.25059156]\n",
      "  > Dipole moment (a.u.): [-0.00000001  0.00000001  -0.67934023]  Total: 0.67934023\n",
      "                 (debye): [-0.00000002  0.00000001  -1.72671046]  Total: 1.72671046\n",
      " \n"
     ]
    }
   ],
   "source": [
    "print(result)"
   ]
  },
  {
   "cell_type": "markdown",
   "id": "executed-planning",
   "metadata": {},
   "source": [
    "### VQE runtime\n",
    "\n",
    "The way of excecuting a vqe algorithm can be changed in order to improve its performance. This is essentially achived by excecuting the hybrid quantum-classical parts of the algorithm on an IBM server closely located to the QPU, minimizing the communication in this part of the algorithm.\n",
    "\n",
    "Firs, we constructu the Ansatz manually:\n"
   ]
  },
  {
   "cell_type": "code",
   "execution_count": 54,
   "id": "international-needle",
   "metadata": {},
   "outputs": [
    {
     "data": {
      "image/png": "[encoded data removed]",
      "text/plain": [
       "<Figure size 628.397x264.88 with 1 Axes>"
      ]
     },
     "execution_count": 54,
     "metadata": {},
     "output_type": "execute_result"
    }
   ],
   "source": [
    "from qiskit.circuit.library import EfficientSU2\n",
    "\n",
    "ansatz = EfficientSU2(num_qubits=qubit_op_parity.num_qubits, reps=1, entanglement='linear', insert_barriers=True)\n",
    "\n",
    "ansatz.decompose().draw('mpl', style='iqx')"
   ]
  },
  {
   "cell_type": "code",
   "execution_count": 55,
   "id": "experienced-yeast",
   "metadata": {},
   "outputs": [
    {
     "name": "stderr",
     "output_type": "stream",
     "text": [
      "/usr/lib/python3/dist-packages/urllib3/connection.py:335: SystemTimeWarning: System time is way off (before 2019-01-01). This will probably lead to SSL verification errors\n",
      "  warnings.warn(\n",
      "/usr/lib/python3/dist-packages/urllib3/connection.py:335: SystemTimeWarning: System time is way off (before 2019-01-01). This will probably lead to SSL verification errors\n",
      "  warnings.warn(\n",
      "/usr/lib/python3/dist-packages/urllib3/connection.py:335: SystemTimeWarning: System time is way off (before 2019-01-01). This will probably lead to SSL verification errors\n",
      "  warnings.warn(\n",
      "/usr/lib/python3/dist-packages/urllib3/connection.py:335: SystemTimeWarning: System time is way off (before 2019-01-01). This will probably lead to SSL verification errors\n",
      "  warnings.warn(\n"
     ]
    },
    {
     "name": "stdout",
     "output_type": "stream",
     "text": [
      "Provider supports runtime:  True\n"
     ]
    }
   ],
   "source": [
    "from qiskit import IBMQ\n",
    "IBMQ.load_account()\n",
    "\n",
    "provider = IBMQ.get_provider(group=\"open\")\n",
    "print(\"Provider supports runtime: \", provider.has_service(\"runtime\"))\n",
    "\n",
    "backend = provider.get_backend(\"ibmq_qasm_simulator\")"
   ]
  },
  {
   "cell_type": "markdown",
   "id": "young-helmet",
   "metadata": {},
   "source": [
    "Now we construct a new VQE solver"
   ]
  },
  {
   "cell_type": "code",
   "execution_count": 57,
   "id": "liable-paste",
   "metadata": {},
   "outputs": [],
   "source": [
    "import numpy as np\n",
    "from qiskit_nature.runtime import VQEProgram\n",
    "optimizer = {\n",
    "    \"name\" : \"SPSA\",\n",
    "    \"maxiter\": 50,\n",
    "}\n",
    "initial_point = np.random.random(ansatz.num_parameters)\n",
    "\n",
    "runtime_vqe = VQEProgram(\n",
    "    ansatz=ansatz,\n",
    "    optimizer=optimizer,\n",
    "    initial_point=initial_point,\n",
    "    provider=provider,\n",
    "    backend=backend,\n",
    "    shots=1024,\n",
    "    measurement_error_mitigation=True,\n",
    ")"
   ]
  },
  {
   "cell_type": "code",
   "execution_count": 58,
   "id": "improved-danish",
   "metadata": {},
   "outputs": [],
   "source": [
    "runtime_vqe_solver = GroundStateEigensolver(parity_converter, runtime_vqe)"
   ]
  },
  {
   "cell_type": "code",
   "execution_count": 59,
   "id": "cooked-sequence",
   "metadata": {},
   "outputs": [
    {
     "name": "stderr",
     "output_type": "stream",
     "text": [
      "/usr/lib/python3/dist-packages/urllib3/connection.py:335: SystemTimeWarning: System time is way off (before 2019-01-01). This will probably lead to SSL verification errors\n",
      "  warnings.warn(\n"
     ]
    }
   ],
   "source": [
    "runtime_result = runtime_vqe_solver.solve(problem_reduced)"
   ]
  },
  {
   "cell_type": "code",
   "execution_count": 60,
   "id": "spread-costs",
   "metadata": {},
   "outputs": [
    {
     "name": "stdout",
     "output_type": "stream",
     "text": [
      "=== GROUND STATE ENERGY ===\n",
      " \n",
      "* Electronic ground state energy (Hartree): -83.704391301598\n",
      "  - computed part:      -1.12025536791\n",
      "  - ActiveSpaceTransformer extracted energy part: -82.584135933688\n",
      "~ Nuclear repulsion energy (Hartree): 9.285714221678\n",
      "> Total ground state energy (Hartree): -74.41867707992\n",
      " \n",
      "=== MEASURED OBSERVABLES ===\n",
      " \n",
      "  0:  # Particles: 3.289 S: 0.821 S^2: 1.495 M: -0.641\n",
      " \n",
      "=== DIPOLE MOMENTS ===\n",
      " \n",
      "~ Nuclear dipole moment (a.u.): [0.0  0.0  0.00377945]\n",
      " \n",
      "  0: \n",
      "  * Electronic dipole moment (a.u.): [0.01221069  0.09252541  -0.76478646]\n",
      "    - computed part:      [0.01221069  0.09252541  -1.01537802]\n",
      "    - ActiveSpaceTransformer extracted energy part: [0.0  0.0  0.25059156]\n",
      "  > Dipole moment (a.u.): [-0.01221069  -0.09252541  0.76856591]  Total: 0.7742116\n",
      "                 (debye): [-0.03103648  -0.23517611  1.95349949]  Total: 1.96784942\n",
      " \n"
     ]
    }
   ],
   "source": [
    "print(runtime_result)"
   ]
  },
  {
   "cell_type": "markdown",
   "id": "compatible-funeral",
   "metadata": {},
   "source": [
    "It is important to note that the ansatz used in this case does not conserve the number of partibles of the system, then, the number of particles change and that has to be taken into account."
   ]
  },
  {
   "cell_type": "markdown",
   "id": "radio-chester",
   "metadata": {},
   "source": [
    "# Qiskit Finance\n",
    "Why finance + QC?\n",
    "\n",
    "* Optimization:\n",
    "    * Quadratic programs\n",
    "        * Near-term Variational algorithms\n",
    "        * Fault toleran: Grover search\n",
    "* Estimation\n",
    "    * Montecarlo simulations\n",
    "        * Quantum Amplitude estimation\n",
    "\n",
    "Qiskit finance is divided in three modules:\n",
    "* Applications:\n",
    "    * Optimization: \n",
    "    * Estimation\n",
    "* Circuits\n",
    "* Data providers\n",
    "### Protafolio optimization\n",
    "Lets imagine that you have an assets portafolio and you would like to have the maximum return from this portafolio but also you want to have a small risk.\n",
    "#### Asset modeling\n",
    "Collection of assets:  Modelled with a multivariable probability distribution $\\vec{X} = (X_1,...,X_n).$\n",
    "This means that you have means $\\mu$ of the return of each asset and also a covariance matrix $\\Sigma$ that tells you the variance between assets.\n",
    "\n",
    "Optimal solution $\\vec{x}$:\n",
    "\n",
    "$$\\vec{x}^* \\text{ such that maximize return and minimize the risk.}$$\n",
    "\n",
    "$$\\vec{x}^*\\in orgmax_{\\vec{x}\\in\\{0,1\\}} Returns - \\varphi Risk$$\n",
    "\n",
    "$\\phi$ is known as the risk apetite. The vector is $0$ when the assets is not taken into account for the portafolio and $1$ when it is added to the portafolio.\n",
    "\n",
    "There are different ways to quantify risk -- first we'll define it as the variance of the Joint distribution:\n",
    "\n",
    "$$\\vec{x}\\hspace{1em} orgmax_{\\vec{x}} \\hspace{1em}\\mathbb{E}[\\vec{x}^T\\vec{X}] - \\varphi Var(\\vec{x}^T,\\vec{X})$$\n",
    "\n",
    "$$\\in\\hspace{1em} orgmax_{\\vec{x\n",
    "} }\\hspace{1em} \\vec{x}^T\\vec{\\mu} - \\varphi \\vec{x}^T\\Sigma\\vec{x}$$\n",
    "\n",
    "this is nothing but a quadratic program! These are well-studied and we can solve them with Qiskit. \n",
    "#### Quadratic program formulation"
   ]
  },
  {
   "cell_type": "code",
   "execution_count": 1,
   "id": "worse-selection",
   "metadata": {},
   "outputs": [],
   "source": [
    "import numpy as np\n",
    "\n",
    "mu = np.array([2.5,4.2,1])\n",
    "sigma = np.array([[1,0,-1],\n",
    "                 [0,1,0.7],\n",
    "                 [-1,0.7,1]])\n",
    "\n",
    "budget = 2 # select 2 of the 3 assets\n",
    "risk_factor = 0.7 # Risk factor \\varphi"
   ]
  },
  {
   "cell_type": "markdown",
   "id": "acoustic-sheriff",
   "metadata": {},
   "source": [
    "In Qiskit there is a `PortafolioOptimization` application to construct a quadratic program for portafolio optimizations."
   ]
  },
  {
   "cell_type": "code",
   "execution_count": 2,
   "id": "distinct-violence",
   "metadata": {},
   "outputs": [],
   "source": [
    "from qiskit_finance.applications.optimization import PortfolioOptimization\n",
    "\n",
    "popt =  PortfolioOptimization(expected_returns=mu, covariances=sigma, risk_factor=risk_factor,budget=budget)"
   ]
  },
  {
   "cell_type": "markdown",
   "id": "fifty-champion",
   "metadata": {},
   "source": [
    "Now that we have the portafolio we can trandform it into a quadratic program"
   ]
  },
  {
   "cell_type": "code",
   "execution_count": 3,
   "id": "surprising-korea",
   "metadata": {},
   "outputs": [
    {
     "name": "stdout",
     "output_type": "stream",
     "text": [
      "\\ This file has been generated by DOcplex\n",
      "\\ ENCODING=ISO-8859-1\n",
      "\\Problem name: Portfolio optimization\n",
      "\n",
      "Minimize\n",
      " obj: - 2.500000000000 x_0 - 4.200000000000 x_1 - x_2 + [ 1.400000000000 x_0^2\n",
      "      - 2.800000000000 x_0*x_2 + 1.400000000000 x_1^2 + 1.960000000000 x_1*x_2\n",
      "      + 1.400000000000 x_2^2 ]/2\n",
      "Subject To\n",
      " c0: x_0 + x_1 + x_2 = 2\n",
      "\n",
      "Bounds\n",
      " 0 <= x_0 <= 1\n",
      " 0 <= x_1 <= 1\n",
      " 0 <= x_2 <= 1\n",
      "\n",
      "Binaries\n",
      " x_0 x_1 x_2\n",
      "End\n",
      "\n"
     ]
    }
   ],
   "source": [
    "qp = popt.to_quadratic_program()\n",
    "print(qp)"
   ]
  },
  {
   "cell_type": "markdown",
   "id": "controlled-stanley",
   "metadata": {},
   "source": [
    "We can now solve the problem with either a classical or quantum algorithm"
   ]
  },
  {
   "cell_type": "code",
   "execution_count": 5,
   "id": "vietnamese-resort",
   "metadata": {},
   "outputs": [],
   "source": [
    "from qiskit_optimization.algorithms import CplexOptimizer\n",
    "\n",
    "cplex_optimizer = CplexOptimizer()\n",
    "cplex_result = cplex_optimizer.solve(qp)"
   ]
  },
  {
   "cell_type": "code",
   "execution_count": 6,
   "id": "tutorial-promotion",
   "metadata": {},
   "outputs": [
    {
     "name": "stdout",
     "output_type": "stream",
     "text": [
      "optimal function value: -5.300000000000001\n",
      "optimal value: [1. 1. 0.]\n",
      "status: SUCCESS\n"
     ]
    }
   ],
   "source": [
    "print(cplex_result)"
   ]
  },
  {
   "cell_type": "markdown",
   "id": "touched-viewer",
   "metadata": {},
   "source": [
    "The solutions suggests that we should selects assets 1 and 2"
   ]
  },
  {
   "cell_type": "markdown",
   "id": "scenic-petersburg",
   "metadata": {},
   "source": [
    "### Recap on the Variational Quantum Eigensolver\n",
    "\n",
    "Goal: Find the ground state $|\\Psi\\rangle$ of the Hamiltonian $H$.\n",
    "\n",
    "Idea: Choose model $|\\phi(\\theta)\\rangle$ that can approximate $|\\Psi\\rangle$ well and minimize the energy\n",
    "\n",
    "$$argmin_\\theta E(\\theta) = argmin_\\theta \\langle\\phi(\\theta)|H|\\phi(\\theta)\\rangle$$\n",
    "\n",
    "A classical processor uodate the parameters and the quantum processor evaluated the new energy.\n",
    "\n",
    "With special $H$ we can solve quadratic unconstrained binary optimizations (QUBOs)!\n",
    "\n",
    "A QUBO problem is written as an Ising model and then is turned into an Ising Hamiltonian which is the appropriate to be optimized."
   ]
  },
  {
   "cell_type": "code",
   "execution_count": 7,
   "id": "emotional-agriculture",
   "metadata": {},
   "outputs": [],
   "source": [
    "from qiskit import Aer\n",
    "sim =  Aer.get_backend('qasm_simulator')"
   ]
  },
  {
   "cell_type": "code",
   "execution_count": 13,
   "id": "working-bacteria",
   "metadata": {},
   "outputs": [
    {
     "data": {
      "image/png": "[encoded data removed]",
      "text/plain": [
       "<Figure size 628.397x204.68 with 1 Axes>"
      ]
     },
     "execution_count": 13,
     "metadata": {},
     "output_type": "execute_result"
    }
   ],
   "source": [
    "from qiskit.circuit.library import RealAmplitudes #model |𝜙(𝜃)⟩ \n",
    "\n",
    "ansatz = RealAmplitudes(3,reps=2)\n",
    "ansatz.decompose().draw('mpl',style='iqx')"
   ]
  },
  {
   "cell_type": "code",
   "execution_count": 14,
   "id": "inclusive-advertiser",
   "metadata": {},
   "outputs": [],
   "source": [
    "from qiskit.algorithms import VQE\n",
    "from qiskit.algorithms.optimizers import SLSQP\n",
    "from qiskit_optimization.algorithms import MinimumEigenOptimizer\n",
    "\n",
    "vqe = VQE(ansatz, optimizer=SLSQP(),quantum_instance=sim)\n",
    "vqe_optimizer = MinimumEigenOptimizer(vqe)\n",
    "\n",
    "# The MinimumEigenOptimizer internally maps the QP into an Ising Hamiltonian and back\n",
    "\n",
    "vqe_result = vqe_optimizer.solve(qp)"
   ]
  },
  {
   "cell_type": "code",
   "execution_count": 15,
   "id": "eleven-joining",
   "metadata": {},
   "outputs": [
    {
     "name": "stdout",
     "output_type": "stream",
     "text": [
      "optimal function value: -5.300000000000001\n",
      "optimal value: [1. 1. 0.]\n",
      "status: SUCCESS\n"
     ]
    }
   ],
   "source": [
    "print(vqe_result)"
   ]
  },
  {
   "cell_type": "markdown",
   "id": "flexible-reunion",
   "metadata": {},
   "source": [
    "We just obtained the same answer as before.\n",
    "\n",
    "### Leveraging Qiskit Runtime\n",
    " This is  tool that can be used to excecute the algorithm using IBM classical processors too. In order to improve the runtime of the algorithm."
   ]
  },
  {
   "cell_type": "code",
   "execution_count": 16,
   "id": "tamil-affair",
   "metadata": {},
   "outputs": [],
   "source": [
    "from qiskit_optimization.runtime import VQEProgram #soon to be called VQEClient\n",
    "from qiskit import IBMQ\n",
    "IBMQ.load_account()\n",
    "\n",
    "provider = IBMQ.get_provider(group=\"open\")\n",
    "backend = provider.get_backend(\"ibmq_qasm_simulator\")\n",
    "\n",
    "vqe = VQEProgram(ansatz, optimizer=SLSQP(),provider=provider, backend=backend)\n",
    "vqe_result = vqe_optimizer.solve(qp)\n",
    "\n"
   ]
  },
  {
   "cell_type": "code",
   "execution_count": 17,
   "id": "occasional-bathroom",
   "metadata": {},
   "outputs": [
    {
     "name": "stdout",
     "output_type": "stream",
     "text": [
      "optimal function value: -5.300000000000001\n",
      "optimal value: [1. 1. 0.]\n",
      "status: SUCCESS\n"
     ]
    }
   ],
   "source": [
    "print (vqe_result)"
   ]
  },
  {
   "cell_type": "markdown",
   "id": "starting-robertson",
   "metadata": {},
   "source": [
    "## Option pricing\n",
    "\n",
    "Finantial option: Right to buy or sell an asset for a certain price in a certain time window\n",
    "\n",
    "Example: European call option\n",
    "\n",
    "At a fixed maturity time $T$, you can buy an asset for a fixed strike price $K$\n",
    "\n",
    "Question: Is it worth it? What's your expected Payoff?\n",
    "\n",
    "payoff = $\\mathbb{E}[max(S_T - K,0)]$\n",
    "\n",
    "This is a Monte-carlo estimation\n",
    "$\\approx \\frac{1}{M} \\sum_{i = 1}^{M} f(x_i)\\hspace{1em}\\mathcal{O}(\\frac{1}{\\sqrt{M}})$\n",
    "Order of convergence.\n",
    "\n",
    "Can we do better with a quantum algorithm?"
   ]
  },
  {
   "cell_type": "markdown",
   "id": "looking-ceiling",
   "metadata": {},
   "source": [
    "### Quantum Amplitude Estimation\n",
    "\n",
    "Given an operator $\\mathcal{A}$ with\n",
    "\n",
    "$$|\\psi\\rangle = \\mathcal{A}|0\\rangle = \\sqrt{1-a}|\\psi_0\\rangle + \\sqrt{a}|\\psi_1\\rangle$$\n",
    "\n",
    "what's $a = |\\langle\\psi_1|\\psi_1\\rangle|^2$\n",
    "\n",
    "You take the operator $\\mathcal{A}$ and construct an operator $\\mathcal{Q}$ such that its eigenvalues depens on the amplitude $\\mathcal{A}$. Then you have to use the phase estimation algorithm to find the phase associated to the operator $\\mathcal{Q}$ and, with that phase, you can find the amplitudes associated to the operator $\\mathcal{A}$. See [this](https://arxiv.org/abs/quant-ph/0005055) article.\n"
   ]
  },
  {
   "cell_type": "code",
   "execution_count": 18,
   "id": "harmful-arrangement",
   "metadata": {},
   "outputs": [],
   "source": [
    "from qiskit.algorithms import AmplitudeEstimation"
   ]
  },
  {
   "cell_type": "markdown",
   "id": "bibliographic-architecture",
   "metadata": {},
   "source": [
    "### Option pricing with amplitude estimation\n",
    "\n",
    "This estimation can be done using the Amplitude estimation algorithm, wich has a convergence of order $\\mathcal{O}(\\frac{1}{M})$. Which is much better\n",
    "\n",
    "The question here is how can we formulate the option pricing for amplitude estimation\n",
    "\n",
    "$$a = \\mathbb{E}[f(x)] ?$$\n",
    "\n",
    "It is possible!\n",
    "$$a = \\int_x f(x)p(x)dx \\approx \\sum_{i = 1}^M f(x_i)p(x_i)$$\n",
    "\n",
    "Then\n",
    "\n",
    "$$\\mathcal{A}|0\\rangle = \\sum_i \\sqrt{p(x_i)}\\left(\\sqrt{1-f(x_i)}|x_i\\rangle|0\\rangle + \\sqrt{f(x_i)}|x_i\\rangle|1\\rangle\\right)$$\n",
    "\n",
    "The circuit can be build with qiskit\n"
   ]
  },
  {
   "cell_type": "code",
   "execution_count": 19,
   "id": "legal-association",
   "metadata": {},
   "outputs": [],
   "source": [
    "from qiskit_finance.circuit.library import EuropeanCallPricingObjective #F\n",
    "from qiskit.circuit.library import LogNormalDistribution #p_x"
   ]
  },
  {
   "cell_type": "markdown",
   "id": "confirmed-traffic",
   "metadata": {},
   "source": [
    "we'll use 3 qubits to represent the probability $p(x)$ distribution of the asset. This determined the accuracy of our integral and therefore our prediction."
   ]
  },
  {
   "cell_type": "code",
   "execution_count": 20,
   "id": "south-technology",
   "metadata": {},
   "outputs": [],
   "source": [
    "num_uncertainty_qubits = 3"
   ]
  },
  {
   "cell_type": "markdown",
   "id": "molecular-economics",
   "metadata": {},
   "source": [
    "Using the Black-Scholes model we can analytically compute the probability distribution of the asset at time $T$. See [this](https://journals.aps.org/pra/abstract/10.1103/PhysRevA.98.022321) article."
   ]
  },
  {
   "cell_type": "code",
   "execution_count": 21,
   "id": "underlying-ontario",
   "metadata": {},
   "outputs": [],
   "source": [
    "strike_price = 1.896   # agreed upon strike price\n",
    "T = 40 / 365         # 40 days to maturity\n",
    "\n",
    "S = 2.0              # initial spot price\n",
    "vol = 0.4            # volatility of 40%\n",
    "r = 0.05             # annual interest rate of 4%\n",
    "\n",
    "# resulting parameters for log-normal distribution\n",
    "mu = ((r - 0.5 * vol**2) * T + np.log(S))\n",
    "sigma = vol * np.sqrt(T)\n",
    "mean = np.exp(mu + sigma**2/2)\n",
    "variance = (np.exp(sigma**2) - 1) * np.exp(2*mu + sigma**2)\n",
    "stddev = np.sqrt(variance)\n",
    "\n",
    "# lowest and highest value considered for the spot price; in between, an equidistant discretization is considered.\n",
    "low  = np.maximum(0, mean - 3*stddev)\n",
    "high = mean + 3*stddev"
   ]
  },
  {
   "cell_type": "markdown",
   "id": "designed-hygiene",
   "metadata": {},
   "source": [
    "Qiskit knows how to load the distribution onto qubits\n"
   ]
  },
  {
   "cell_type": "code",
   "execution_count": 23,
   "id": "downtown-morocco",
   "metadata": {},
   "outputs": [
    {
     "name": "stderr",
     "output_type": "stream",
     "text": [
      "<ipython-input-23-dc9b454ceb17>:1: DeprecationWarning: `LogNormalDistribution` is deprecated as of version 0.17.0 and will be removed no earlier than 3 months after the release date. It moved to qiskit_finance.circuit.library.LogNormalDistribution.\n",
      "  distribution = LogNormalDistribution(num_uncertainty_qubits, mu=mu, sigma=sigma**2, bounds=(low,high))\n"
     ]
    }
   ],
   "source": [
    "distribution = LogNormalDistribution(num_uncertainty_qubits, mu=mu, sigma=sigma**2, bounds=(low,high))"
   ]
  },
  {
   "cell_type": "markdown",
   "id": "orange-vector",
   "metadata": {},
   "source": [
    "We can now define the European Call option"
   ]
  },
  {
   "cell_type": "code",
   "execution_count": 24,
   "id": "lined-korean",
   "metadata": {},
   "outputs": [],
   "source": [
    "from qiskit_finance.applications import EuropeanCallPricing\n",
    "\n",
    "european_call_pricing = EuropeanCallPricing(num_state_qubits=num_uncertainty_qubits, \n",
    "                                            strike_price=strike_price,\n",
    "                                           rescaling_factor=0.25,\n",
    "                                           bounds=(low,high),\n",
    "                                           uncertainty_model=distribution)"
   ]
  },
  {
   "cell_type": "markdown",
   "id": "specified-minutes",
   "metadata": {},
   "source": [
    "We have to define the problem as an estimation problem"
   ]
  },
  {
   "cell_type": "code",
   "execution_count": 25,
   "id": "commercial-toyota",
   "metadata": {},
   "outputs": [],
   "source": [
    "problem = european_call_pricing.to_estimation_problem()"
   ]
  },
  {
   "cell_type": "markdown",
   "id": "functioning-accommodation",
   "metadata": {},
   "source": [
    "We can have a look at the $\\mathcal{A}$ operator:"
   ]
  },
  {
   "cell_type": "code",
   "execution_count": 26,
   "id": "hundred-numbers",
   "metadata": {},
   "outputs": [
    {
     "data": {
      "image/png": "[encoded data removed]",
      "text/plain": [
       "<Figure size 206.997x445.48 with 1 Axes>"
      ]
     },
     "execution_count": 26,
     "metadata": {},
     "output_type": "execute_result"
    }
   ],
   "source": [
    "problem.state_preparation.draw('mpl')"
   ]
  },
  {
   "cell_type": "markdown",
   "id": "secure-assist",
   "metadata": {},
   "source": [
    "We're usint iterative amplitude estimation.\n"
   ]
  },
  {
   "cell_type": "code",
   "execution_count": 27,
   "id": "overhead-amateur",
   "metadata": {},
   "outputs": [],
   "source": [
    "from qiskit.algorithms import IterativeAmplitudeEstimation\n",
    "\n",
    "epsilon = 0.01 # determines the final accuracy\n",
    "alpha = 0.05 # determines how certain we are of the result\n",
    "\n",
    "ae = IterativeAmplitudeEstimation(epsilon, alpha=alpha, quantum_instance=sim)"
   ]
  },
  {
   "cell_type": "code",
   "execution_count": 28,
   "id": "worst-mission",
   "metadata": {},
   "outputs": [],
   "source": [
    "result = ae.estimate(problem)"
   ]
  },
  {
   "cell_type": "code",
   "execution_count": 29,
   "id": "administrative-blast",
   "metadata": {},
   "outputs": [
    {
     "name": "stdout",
     "output_type": "stream",
     "text": [
      "Estimated value:  0.171674186708029\n",
      "confidence interval:  (0.1642735013439623, 0.17907487207209588)\n"
     ]
    }
   ],
   "source": [
    "print('Estimated value: ', result.estimation_processed)\n",
    "print('confidence interval: ',result.confidence_interval_processed)"
   ]
  },
  {
   "cell_type": "code",
   "execution_count": null,
   "id": "humanitarian-sculpture",
   "metadata": {},
   "outputs": [],
   "source": []
  }
 ],
 "metadata": {
  "kernelspec": {
   "display_name": "Python 3",
   "language": "python",
   "name": "python3"
  },
  "language_info": {
   "codemirror_mode": {
    "name": "ipython",
    "version": 3
   },
   "file_extension": ".py",
   "mimetype": "text/x-python",
   "name": "python",
   "nbconvert_exporter": "python",
   "pygments_lexer": "ipython3",
   "version": "3.8.5"
  }
 },
 "nbformat": 4,
 "nbformat_minor": 5
}
